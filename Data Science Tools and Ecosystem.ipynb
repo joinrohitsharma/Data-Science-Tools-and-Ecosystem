{
 "cells": [
  {
   "cell_type": "markdown",
   "id": "6a8ede59-6015-4a20-b371-ddf69a6528d1",
   "metadata": {},
   "source": [
    "Exercise 2 - Create a markdown cell with the title of the notebook. (1 pt)"
   ]
  },
  {
   "cell_type": "markdown",
   "id": "24ee876e-2dc4-49e9-ae79-15c238042c8d",
   "metadata": {},
   "source": [
    "# Final Project - Data Science Tools and Ecosystem"
   ]
  },
  {
   "cell_type": "code",
   "execution_count": null,
   "id": "59bed908-abab-4144-a724-32f73bc9fce3",
   "metadata": {},
   "outputs": [],
   "source": []
  },
  {
   "cell_type": "markdown",
   "id": "fc23a124-9f38-4db1-9f92-4f33c7ca1f41",
   "metadata": {},
   "source": [
    "Exercise 3 - Create a markdown cell for an introduction. (1 pt)"
   ]
  },
  {
   "cell_type": "markdown",
   "id": "c8727fc6-47e8-459f-8acd-abba6cea72f1",
   "metadata": {},
   "source": [
    "## Introduction  \n",
    "This notebook summarizes key concepts and tools in data science, including languages, libraries, and some basic calculations.\n"
   ]
  },
  {
   "cell_type": "code",
   "execution_count": null,
   "id": "a3ec6fdd-bf5a-4885-9f2d-6962500f33f5",
   "metadata": {},
   "outputs": [],
   "source": []
  },
  {
   "cell_type": "markdown",
   "id": "4e7c92a4-2ec0-4a49-bfdd-754a1f0d2f4b",
   "metadata": {},
   "source": [
    "Exercise 4 - Create a markdown cell to list data science languages. (3 pts)"
   ]
  },
  {
   "cell_type": "markdown",
   "id": "72e3b87e-6401-455d-82df-e8fdc539f852",
   "metadata": {},
   "source": [
    "### Data Science Languages  \n",
    "- Python  \n",
    "- R  \n",
    "- SQL  \n",
    "- Julia  \n",
    "- Scala"
   ]
  },
  {
   "cell_type": "code",
   "execution_count": null,
   "id": "addbaf21-6133-40f8-a5fe-400e26de293e",
   "metadata": {},
   "outputs": [],
   "source": []
  },
  {
   "cell_type": "markdown",
   "id": "6197a463-70a9-44f7-a3c9-a0d113f4df10",
   "metadata": {},
   "source": [
    "Exercise 5 - Create a markdown cell to list data science libraries. (3 pts)"
   ]
  },
  {
   "cell_type": "markdown",
   "id": "33e80b3c-1a1b-4238-baaf-8cdfa7221c30",
   "metadata": {},
   "source": [
    "### Data Science Libraries  \n",
    "- Pandas  \n",
    "- NumPy  \n",
    "- Scikit-learn  \n",
    "- TensorFlow  \n",
    "- Matplotlib"
   ]
  },
  {
   "cell_type": "code",
   "execution_count": null,
   "id": "145dfd22-d270-481e-8d1b-a4865da8f06b",
   "metadata": {},
   "outputs": [],
   "source": []
  },
  {
   "cell_type": "markdown",
   "id": "db0134f0-6ee6-43d6-8698-479e903977f8",
   "metadata": {},
   "source": [
    "Exercise 6 - Create a markdown cell with a table of Data Science tools. (3 pts)\n"
   ]
  },
  {
   "cell_type": "markdown",
   "id": "8b4af479-1ef9-444f-a1c4-cc985fb3b821",
   "metadata": {},
   "source": [
    "### Data Science Tools  \n",
    "\n",
    "| Tool           | Category        |\n",
    "|----------------|-----------------|\n",
    "| Jupyter        | Notebook IDE    |\n",
    "| RStudio        | IDE             |\n",
    "| Apache Spark   | Big Data Engine |\n",
    "| Tableau        | Data Viz Tool   |\n",
    "| VS Code        | Code Editor     |"
   ]
  },
  {
   "cell_type": "code",
   "execution_count": null,
   "id": "fc374094-810a-4e8d-9f6b-35dceb90a030",
   "metadata": {},
   "outputs": [],
   "source": []
  },
  {
   "cell_type": "markdown",
   "id": "5ffd8176-8fdc-42b3-a392-fe9e06160be4",
   "metadata": {},
   "source": [
    "Exercise 7 - Create a markdown cell introducing arithmetic expression examples. (1 pt)"
   ]
  },
  {
   "cell_type": "markdown",
   "id": "200c873a-2061-419f-ac92-5de34f0d305a",
   "metadata": {},
   "source": [
    "### Arithmetic Expression Examples  \n",
    "Below are some examples of simple arithmetic expressions using Python:\n",
    "- Addition: `3 + 5`\n",
    "- Subtraction: `10 - 2`\n",
    "- Multiplication: `4 * 6`\n",
    "- Division: `8 / 2`"
   ]
  },
  {
   "cell_type": "code",
   "execution_count": 28,
   "id": "d182d0df-50f5-414b-9460-ecc18216ad1b",
   "metadata": {},
   "outputs": [
    {
     "data": {
      "text/plain": [
       "9"
      ]
     },
     "execution_count": 28,
     "metadata": {},
     "output_type": "execute_result"
    }
   ],
   "source": [
    "# Arithmetic operations\n",
    "code = compile(\"5 + 4\", \"<string>\", \"eval\")\n",
    "eval(code)\n",
    "# Result: 9"
   ]
  },
  {
   "cell_type": "code",
   "execution_count": null,
   "id": "1d5ebaab-a684-4feb-9ee2-f0dcda3b9a96",
   "metadata": {},
   "outputs": [],
   "source": []
  },
  {
   "cell_type": "markdown",
   "id": "35227910-8b0f-430a-8f67-20e1a41d2408",
   "metadata": {},
   "source": [
    "Exercise 8 - Create a code cell to multiply and add numbers.(2 pts)"
   ]
  },
  {
   "cell_type": "code",
   "execution_count": 32,
   "id": "4460b067-c7bd-4a82-ac49-e71776d92387",
   "metadata": {},
   "outputs": [
    {
     "name": "stdout",
     "output_type": "stream",
     "text": [
      "The result of (3 * 4) + 5 is: 17\n"
     ]
    }
   ],
   "source": [
    "# Multiply and add numbers\n",
    "result = (3 * 4) + 5\n",
    "print(\"The result of (3 * 4) + 5 is:\", result)"
   ]
  },
  {
   "cell_type": "code",
   "execution_count": null,
   "id": "ff698fd9-6e5c-4e39-b148-51aa7c65c117",
   "metadata": {},
   "outputs": [],
   "source": []
  },
  {
   "cell_type": "markdown",
   "id": "83be842b-eac5-410c-9c92-41b571d19096",
   "metadata": {},
   "source": [
    "Exercise 9 - Create a code cell to convert minutes to hours. (2 pts)"
   ]
  },
  {
   "cell_type": "code",
   "execution_count": 35,
   "id": "7c4f79de-cff8-46f5-a345-f8575dec1884",
   "metadata": {},
   "outputs": [
    {
     "data": {
      "text/plain": [
       "3.3333333333333335"
      ]
     },
     "execution_count": 35,
     "metadata": {},
     "output_type": "execute_result"
    }
   ],
   "source": [
    "minutes = 200\n",
    "hours = minutes / 60\n",
    "hours"
   ]
  },
  {
   "cell_type": "code",
   "execution_count": null,
   "id": "3ebb4d9a-5077-446e-9af8-5e2dfa2fc034",
   "metadata": {},
   "outputs": [],
   "source": []
  },
  {
   "cell_type": "markdown",
   "id": "d6c92b34-3482-4fb8-8261-d85f955fad14",
   "metadata": {},
   "source": [
    "Exercise 10 -Insert a markdown cell to list Objectives.\n"
   ]
  },
  {
   "cell_type": "markdown",
   "id": "91e78973-8e3c-4fbf-b6ee-49f22f8ee291",
   "metadata": {},
   "source": [
    "### Objectives  \n",
    "\n",
    "In this notebook, we will:  \n",
    "- List popular programming languages for Data Science  \n",
    "- List commonly used libraries in Data Science  \n",
    "- Create tables of Data Science tools  \n",
    "- Perform arithmetic operations  \n",
    "- Convert minutes to hours using code  \n",
    "- Share the notebook via GitHub"
   ]
  },
  {
   "cell_type": "code",
   "execution_count": null,
   "id": "48e2d790-ff51-43f0-ae81-26f238ce8b21",
   "metadata": {},
   "outputs": [],
   "source": []
  },
  {
   "cell_type": "code",
   "execution_count": null,
   "id": "fe2ca3e6-0e39-4874-bd7c-883ab9f5bc55",
   "metadata": {},
   "outputs": [],
   "source": [
    "Exercise 11 - Create a markdown cell to indicate the Author’s name."
   ]
  },
  {
   "cell_type": "markdown",
   "id": "b04bfe70-7fa8-4718-9d2d-2cd1385929e8",
   "metadata": {},
   "source": [
    "### Author  \n",
    "Vikram Jain"
   ]
  },
  {
   "cell_type": "code",
   "execution_count": null,
   "id": "bbae79dc-7e53-44c4-b756-8ddf7456b311",
   "metadata": {},
   "outputs": [],
   "source": []
  },
  {
   "cell_type": "code",
   "execution_count": null,
   "id": "44ebd2a9-b5ce-4b52-ac65-62801ee4d989",
   "metadata": {},
   "outputs": [],
   "source": [
    "Exercise 12 - Share your notebook through GitHub (3 pts)"
   ]
  },
  {
   "cell_type": "code",
   "execution_count": null,
   "id": "667ef73d-aa4f-4f40-a86e-e64c6a607596",
   "metadata": {},
   "outputs": [],
   "source": []
  }
 ],
 "metadata": {
  "kernelspec": {
   "display_name": "Python [conda env:base] *",
   "language": "python",
   "name": "conda-base-py"
  },
  "language_info": {
   "codemirror_mode": {
    "name": "ipython",
    "version": 3
   },
   "file_extension": ".py",
   "mimetype": "text/x-python",
   "name": "python",
   "nbconvert_exporter": "python",
   "pygments_lexer": "ipython3",
   "version": "3.12.7"
  }
 },
 "nbformat": 4,
 "nbformat_minor": 5
}
